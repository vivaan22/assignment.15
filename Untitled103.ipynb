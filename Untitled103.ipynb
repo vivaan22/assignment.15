{
 "cells": [
  {
   "cell_type": "code",
   "execution_count": null,
   "id": "e21fc7e9",
   "metadata": {},
   "outputs": [],
   "source": [
    "for i in range(length // 2):\n",
    "        if (st[i] != st[length - i - 1]):\n",
    "            return False\n",
    " \n",
    "    return True"
   ]
  },
  {
   "cell_type": "code",
   "execution_count": null,
   "id": "ceb31317",
   "metadata": {},
   "outputs": [],
   "source": [
    "arr = [0, 1, 1, 0, 1, 2, 1, 2, 0, 0, 0, 1]\n",
    "arr_size = len(arr)\n",
    "arr = sort012(arr, arr_size)\n",
    "printArray(arr)"
   ]
  },
  {
   "cell_type": "code",
   "execution_count": null,
   "id": "5036a82b",
   "metadata": {},
   "outputs": [],
   "source": [
    "import random\n",
    "# library that we use in order to choose\n",
    "# on random words from a list of words\n",
    " \n",
    "name = input(\"What is your name? \")\n",
    "# Here the user is asked to enter the name first\n",
    " \n",
    "print(\"Good Luck ! \", name)"
   ]
  },
  {
   "cell_type": "code",
   "execution_count": null,
   "id": "0a93f3d4",
   "metadata": {},
   "outputs": [],
   "source": [
    "def printCollatz(n):\n",
    "     \n",
    "    # We simply follow steps\n",
    "    # while we do not reach 1\n",
    "    while n != 1:\n",
    "        print(n, end = ' ')\n",
    " \n",
    "        # If n is odd\n",
    "        if n & 1:\n",
    "            n = 3 * n + 1\n",
    " \n",
    "        # If even\n",
    "        else:\n",
    "            n = n // 2\n",
    " \n",
    "    # Print 1 at the end\n",
    "    print(n)"
   ]
  },
  {
   "cell_type": "code",
   "execution_count": null,
   "id": "3791044f",
   "metadata": {},
   "outputs": [],
   "source": [
    "def getSortedNumber(n):\n",
    "  \n",
    "    # Convert to equivalent string\n",
    "    number = str(n)\n",
    "  \n",
    "    # Sort the string\n",
    "    number = ''.join(sorted(number))\n",
    "  \n",
    "    # Convert to equivalent integer\n",
    "    number = int(number)\n",
    "  \n",
    "    # Return the integer\n",
    "    return number\n",
    "  "
   ]
  }
 ],
 "metadata": {
  "kernelspec": {
   "display_name": "Python 3",
   "language": "python",
   "name": "python3"
  },
  "language_info": {
   "codemirror_mode": {
    "name": "ipython",
    "version": 3
   },
   "file_extension": ".py",
   "mimetype": "text/x-python",
   "name": "python",
   "nbconvert_exporter": "python",
   "pygments_lexer": "ipython3",
   "version": "3.8.8"
  }
 },
 "nbformat": 4,
 "nbformat_minor": 5
}
